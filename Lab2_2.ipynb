{
  "nbformat": 4,
  "nbformat_minor": 0,
  "metadata": {
    "colab": {
      "provenance": [],
      "mount_file_id": "1ltCB-U9SyY8JxMdJKWkWogshE4mjeUPx",
      "authorship_tag": "ABX9TyOHRmhWYEGF0RqGuBA13I5l",
      "include_colab_link": true
    },
    "kernelspec": {
      "name": "python3",
      "display_name": "Python 3"
    },
    "language_info": {
      "name": "python"
    }
  },
  "cells": [
    {
      "cell_type": "markdown",
      "metadata": {
        "id": "view-in-github",
        "colab_type": "text"
      },
      "source": [
        "<a href=\"https://colab.research.google.com/github/laxmiprasanna123-cmd/AI-ASSISTED-CODING/blob/main/Lab2_2.ipynb\" target=\"_parent\"><img src=\"https://colab.research.google.com/assets/colab-badge.svg\" alt=\"Open In Colab\"/></a>"
      ]
    },
    {
      "cell_type": "code",
      "execution_count": null,
      "metadata": {
        "id": "sogXs3HstGuf"
      },
      "outputs": [],
      "source": []
    },
    {
      "cell_type": "markdown",
      "source": [
        "Task0: Build python function to check the given number is prime or not"
      ],
      "metadata": {
        "id": "XAelmKv_tL9w"
      }
    },
    {
      "cell_type": "code",
      "source": [
        "def is_prime(number):\n",
        "    \"\"\"\n",
        "    Checks if a given number is prime.\n",
        "\n",
        "    Args:\n",
        "        number: The number to check.\n",
        "\n",
        "    Returns:\n",
        "        True if the number is prime, False otherwise.\n",
        "    \"\"\"\n",
        "    if number <= 1:\n",
        "        return False\n",
        "    for i in range(2, int(number**0.5) + 1):\n",
        "        if number % i == 0:\n",
        "            return False\n",
        "    return True\n",
        "\n",
        "# Example usage\n",
        "print(is_prime(11))\n",
        "print(is_prime(4))"
      ],
      "metadata": {
        "colab": {
          "base_uri": "https://localhost:8080/"
        },
        "id": "II2ynB1vtbf4",
        "outputId": "bed7b4e1-5f30-4d8f-9b49-6e9bbf7ba807"
      },
      "execution_count": 1,
      "outputs": [
        {
          "output_type": "stream",
          "name": "stdout",
          "text": [
            "True\n",
            "False\n"
          ]
        }
      ]
    },
    {
      "cell_type": "markdown",
      "source": [
        "Task1:Use Gemini in Colab to write a function that filters out all negative numbers from a given list.\n",
        "prompt:write a function that can identify all negative numbers from a given list an remove them."
      ],
      "metadata": {
        "id": "rbXbQy5x7SQ9"
      }
    },
    {
      "cell_type": "code",
      "source": [],
      "metadata": {
        "id": "tnkuZkGf8oot"
      },
      "execution_count": null,
      "outputs": []
    },
    {
      "cell_type": "code",
      "metadata": {
        "colab": {
          "base_uri": "https://localhost:8080/"
        },
        "id": "742d0476",
        "outputId": "8e559ec0-62b5-42b4-ff59-cd59ee6f2cde"
      },
      "source": [
        "def remove_negative_numbers(input_list):\n",
        "  \"\"\"\n",
        "  Removes all negative numbers from a given list.\n",
        "\n",
        "  Args:\n",
        "    input_list: A list of numbers.\n",
        "\n",
        "  Returns:\n",
        "    A new list with negative numbers removed.\n",
        "  \"\"\"\n",
        "  positive_numbers = [number for number in input_list if number >= 0]\n",
        "  return positive_numbers\n",
        "\n",
        "# Example usage:\n",
        "my_list = [1, -2, 3, -4, 5, -6, 0]\n",
        "filtered_list = remove_negative_numbers(my_list)\n",
        "print(filtered_list)"
      ],
      "execution_count": 3,
      "outputs": [
        {
          "output_type": "stream",
          "name": "stdout",
          "text": [
            "[1, 3, 5, 0]\n"
          ]
        }
      ]
    },
    {
      "cell_type": "markdown",
      "source": [
        "def remove_negative_numbers(input_list):\n",
        "  positive_numbers = [number for number in input_list if number >= 0]\n",
        "  return positive_numbers\n",
        "\n",
        "  Explanation: def remove_negative_numbers(input_list):: This line defines the function named remove_negative_numbers and specifies that it takes one argument, input_list.\n",
        "\"\"\" docstring \"\"\": This is a docstring, which explains what the function does, its arguments (Args), and what it returns (Returns).\n",
        "positive_numbers = [number for number in input_list if number >= 0]: This is a list comprehension. It iterates through each number in the input_list. For each number, it checks if it is greater than or equal to 0 (if number >= 0). If the condition is true (the number is not negative), it includes that number in the new list called positive_numbers.\n",
        "return positive_numbers: Finally, the function returns the positive_numbers list, which contains only the non-negative numbers from the original list.\n"
      ],
      "metadata": {
        "id": "9-TZxssk84O4"
      }
    },
    {
      "cell_type": "markdown",
      "source": [
        "Task2: Ask Gemini to generate code that reads a text file and counts the frequency of each word. Then ask it to explain the code\n",
        "Prompt: write a python program that reads a text file and counts the frequency of each word."
      ],
      "metadata": {
        "id": "CS-6BFtH9RRo"
      }
    },
    {
      "cell_type": "code",
      "source": [],
      "metadata": {
        "id": "IaDcOk8b8_we"
      },
      "execution_count": null,
      "outputs": []
    },
    {
      "cell_type": "code",
      "metadata": {
        "colab": {
          "base_uri": "https://localhost:8080/"
        },
        "id": "346b6945",
        "outputId": "69401cba-11d5-4e68-a232-942ca42eefd4"
      },
      "source": [
        "from collections import Counter\n",
        "import re\n",
        "\n",
        "def count_word_frequency(filepath):\n",
        "  \"\"\"\n",
        "  Reads a text file and counts the frequency of each word.\n",
        "\n",
        "  Args:\n",
        "    filepath: The path to the text file.\n",
        "\n",
        "  Returns:\n",
        "    A dictionary where keys are words and values are their frequencies.\n",
        "  \"\"\"\n",
        "  try:\n",
        "    with open(filepath, 'r', encoding='utf-8') as file:\n",
        "      text = file.read().lower() # Read and convert to lowercase\n",
        "      words = re.findall(r'\\b\\w+\\b', text) # Find all words using regex\n",
        "      word_counts = Counter(words) # Count word frequencies\n",
        "      return word_counts\n",
        "  except FileNotFoundError:\n",
        "    return f\"Error: File not found at {filepath}\"\n",
        "  except Exception as e:\n",
        "    return f\"An error occurred: {e}\"\n",
        "\n",
        "# Example usage:\n",
        "# Create a dummy text file for demonstration\n",
        "with open(\"sample.txt\", \"w\") as f:\n",
        "    f.write(\"This is a sample text file. This file is for demonstrating word frequency counting.\")\n",
        "\n",
        "word_frequencies = count_word_frequency(\"sample.txt\")\n",
        "print(word_frequencies)"
      ],
      "execution_count": 4,
      "outputs": [
        {
          "output_type": "stream",
          "name": "stdout",
          "text": [
            "Counter({'this': 2, 'is': 2, 'file': 2, 'a': 1, 'sample': 1, 'text': 1, 'for': 1, 'demonstrating': 1, 'word': 1, 'frequency': 1, 'counting': 1})\n"
          ]
        }
      ]
    },
    {
      "cell_type": "markdown",
      "source": [
        "def count_word_frequency(filepath):: This line defines the function count_word_frequency that accepts one argument, filepath, which is the path to the text file.\n",
        "\"\"\" docstring \"\"\": This is a docstring explaining the function's purpose, arguments, and return value.\n",
        "try...except block: This block is used for error handling. It attempts to execute the code within the try block and catches potential exceptions like FileNotFoundError or other general exceptions.\n",
        "with open(filepath, 'r', encoding='utf-8') as file:: This opens the file specified by filepath in read mode ('r') with UTF-8 encoding. The with statement ensures the file is automatically closed even if errors occur.\n",
        "text = file.read().lower(): This reads the entire content of the file into the text variable and converts it to lowercase to ensure case-insensitive word counting.\n",
        "words = re.findall(r'\\b\\w+\\b', text): This line uses the re module (regular expressions) to find all words in the text. r'\\b\\w+\\b' is a regular expression pattern that matches word boundaries (\\b) and one or more word characters (\\w+).\n",
        "word_counts = Counter(words): This uses the Counter class from the collections module to count the occurrences of each word in the words list. It returns a dictionary-like object where keys are words and values are their frequencies.\n",
        "return word_counts: If the file is successfully read and processed, the function returns the word_counts dictionary.\n",
        "except FileNotFoundError:: If the specified file is not found, this block is executed, and it returns an error message.\n",
        "except Exception as e:: This catches any other general exceptions that might occur during file processing and returns an error message including the exception details.\n"
      ],
      "metadata": {
        "id": "sVksBPqU_SX1"
      }
    },
    {
      "cell_type": "markdown",
      "source": [
        "Task3:Use Cursor AI to generate a Python class called Book with attributes title, author, and\n",
        "a method summary() that prints the details.\n",
        "Prompt: write a python program  called Book with attributes title, author, and\n",
        "a method summary() that prints the details."
      ],
      "metadata": {
        "id": "BhNyV-uX_Vtw"
      }
    },
    {
      "cell_type": "code",
      "metadata": {
        "colab": {
          "base_uri": "https://localhost:8080/"
        },
        "id": "6e54026b",
        "outputId": "40c395b3-820b-4177-a3df-325cad33b67d"
      },
      "source": [
        "class Book:\n",
        "  \"\"\"\n",
        "  Represents a book with title and author.\n",
        "  \"\"\"\n",
        "  def __init__(self, title, author):\n",
        "    \"\"\"\n",
        "    Initializes a Book object.\n",
        "\n",
        "    Args:\n",
        "      title: The title of the book.\n",
        "      author: The author of the book.\n",
        "    \"\"\"\n",
        "    self.title = title\n",
        "    self.author = author\n",
        "\n",
        "  def summary(self):\n",
        "    \"\"\"\n",
        "    Prints the details of the book (title and author).\n",
        "    \"\"\"\n",
        "    print(f\"Title: {self.title}\")\n",
        "    print(f\"Author: {self.author}\")\n",
        "\n",
        "# Example usage:\n",
        "my_book = Book(\"The Hitchhiker's Guide to the Galaxy\", \"Douglas Adams\")\n",
        "my_book.summary()"
      ],
      "execution_count": 5,
      "outputs": [
        {
          "output_type": "stream",
          "name": "stdout",
          "text": [
            "Title: The Hitchhiker's Guide to the Galaxy\n",
            "Author: Douglas Adams\n"
          ]
        }
      ]
    },
    {
      "cell_type": "markdown",
      "source": [
        "\"\"\" Represents a book with title and author. \"\"\": This is a docstring for the class, explaining its purpose.\n",
        "def __init__(self, title, author):: This is the constructor method of the class. It's called automatically when you create a new Book object.\n",
        "self: Refers to the instance of the class being created.\n",
        "title and author: These are parameters that you pass when you create a Book object, representing the title and author of the book.\n",
        "\"\"\" Initializes a Book object. \"\"\": This is a docstring for the __init__ method.\n",
        "self.title = title and self.author = author: These lines assign the values passed as arguments to the title and author attributes of the Book object. self.title and self.author store the specific title and author for each individual Book object.\n",
        "def summary(self):: This defines a method named summary within the Book class. Methods are functions that belong to a class.\n",
        "self: Refers to the instance of the class the method is being called on.\n",
        "\"\"\" Prints the details of the book (title and author). \"\"\": This is a docstring for the summary method.\n",
        "print(f\"Title: {self.title}\") and print(f\"Author: {self.author}\"): These lines print the title and author attributes of the specific Book object using an f-string for formatted output.\n",
        "In essence, this code defines how a Book object is created (with a title and author) and how its details can be displayed.\n",
        "\n"
      ],
      "metadata": {
        "id": "dar0cR9oAdFd"
      }
    },
    {
      "cell_type": "markdown",
      "source": [
        "Task4: Ask Gemini to write a program that checks whether a number is an Armstrong number, and then modify it using Cursor AI to improve performance or structure.\n",
        "Prompt: write a program that checks whether a number is an Armstrong number, and then modify it using Cursor AI to improve performance or structure."
      ],
      "metadata": {
        "id": "Dx6oq7nkAejc"
      }
    },
    {
      "cell_type": "code",
      "metadata": {
        "colab": {
          "base_uri": "https://localhost:8080/"
        },
        "id": "b1b6e5ac",
        "outputId": "43853fc0-fff2-443c-e5a2-ae949317f5ac"
      },
      "source": [
        "def is_armstrong_number(number):\n",
        "  \"\"\"\n",
        "  Checks if a number is an Armstrong number.\n",
        "\n",
        "  An Armstrong number is a number that is the sum of its own digits\n",
        "  each raised to the power of the number of digits.\n",
        "\n",
        "  Args:\n",
        "    number: The number to check.\n",
        "\n",
        "  Returns:\n",
        "    True if the number is an Armstrong number, False otherwise.\n",
        "  \"\"\"\n",
        "  # Convert the number to a string to get the number of digits\n",
        "  num_str = str(number)\n",
        "  num_digits = len(num_str)\n",
        "  sum_of_powers = 0\n",
        "\n",
        "  # Calculate the sum of each digit raised to the power of the number of digits\n",
        "  for digit in num_str:\n",
        "    sum_of_powers += int(digit) ** num_digits\n",
        "\n",
        "  # Check if the sum is equal to the original number\n",
        "  return sum_of_powers == number\n",
        "\n",
        "# Example usage:\n",
        "print(f\"Is 153 an Armstrong number? {is_armstrong_number(153)}\")\n",
        "print(f\"Is 9 an Armstrong number? {is_armstrong_number(9)}\")\n",
        "print(f\"Is 10 an Armstrong number? {is_armstrong_number(10)}\")"
      ],
      "execution_count": 1,
      "outputs": [
        {
          "output_type": "stream",
          "name": "stdout",
          "text": [
            "Is 153 an Armstrong number? True\n",
            "Is 9 an Armstrong number? True\n",
            "Is 10 an Armstrong number? False\n"
          ]
        }
      ]
    },
    {
      "cell_type": "markdown",
      "source": [
        "# Convert the number to a string to get the number of digits: This is a comment explaining the purpose of the next line.\n",
        "num_str = str(number): This line converts the input number into a string. This is done so that we can easily determine the number of digits and iterate through each digit individually.\n",
        "num_digits = len(num_str): This line calculates the number of digits in the original number by finding the length of the string representation (num_str).\n",
        "sum_of_powers = 0: This line initializes a variable sum_of_powers to 0. This variable will store the sum of each digit raised to the power of the number of digits.\n",
        "# Calculate the sum of each digit raised to the power of the number of digits: This is another comment explaining the purpose of the following loop.\n",
        "for digit in num_str:: This loop iterates through each character (which represents a digit) in the num_str string.\n",
        "sum_of_powers += int(digit) ** num_digits: Inside the loop, for each digit:\n",
        "int(digit): Converts the digit character back into an integer.\n",
        "** num_digits: Raises the integer value of the digit to the power of num_digits (the total number of digits in the original number).\n",
        "sum_of_powers += ...: Adds the result of the power calculation to the sum_of_powers variable.\n",
        "# Check if the sum is equal to the original number: This is a comment explaining the purpose of the next line.\n",
        "return sum_of_powers == number: This line compares the calculated sum_of_powers with the original number. If they are equal, the function returns True, indicating that the number is an Armstrong number. Otherwise, it returns False.\n",
        "This code efficiently implements the definition of an Armstrong number by iterating through the digits and performing the necessary calculations."
      ],
      "metadata": {
        "id": "SkzakyiN7n1G"
      }
    },
    {
      "cell_type": "markdown",
      "source": [
        "Task5: Use both Gemini and Cursor AI to generate code for sorting a list of dictionaries by a\n",
        "specific key (e.g., age).\n",
        "Prompt: Use python code to generate code for sorting a list of dictionaries by a\n",
        "specific key (e.g., age).\n"
      ],
      "metadata": {
        "id": "fzJE8KPO7qeD"
      }
    },
    {
      "cell_type": "markdown",
      "source": [],
      "metadata": {
        "id": "OlpT5WHo7QmT"
      }
    },
    {
      "cell_type": "code",
      "metadata": {
        "colab": {
          "base_uri": "https://localhost:8080/"
        },
        "id": "2e061762",
        "outputId": "804bbf7b-fd8a-4142-c5bc-f49adf325bfc"
      },
      "source": [
        "# Example list of dictionaries\n",
        "list_of_dictionaries = [\n",
        "    {'name': 'Alice', 'age': 30, 'city': 'New York'},\n",
        "    {'name': 'Bob', 'age': 25, 'city': 'London'},\n",
        "    {'name': 'Charlie', 'age': 35, 'city': 'Paris'},\n",
        "    {'name': 'David', 'age': 25, 'city': 'Tokyo'}\n",
        "]\n",
        "\n",
        "# Sort the list of dictionaries by 'age'\n",
        "sorted_list = sorted(list_of_dictionaries, key=lambda x: x['age'])\n",
        "\n",
        "# Print the sorted list\n",
        "print(\"Sorted by age:\")\n",
        "print(sorted_list)\n",
        "\n",
        "# You can also sort by other keys, for example, by 'name'\n",
        "sorted_list_by_name = sorted(list_of_dictionaries, key=lambda x: x['name'])\n",
        "\n",
        "print(\"\\nSorted by name:\")\n",
        "print(sorted_list_by_name)"
      ],
      "execution_count": 2,
      "outputs": [
        {
          "output_type": "stream",
          "name": "stdout",
          "text": [
            "Sorted by age:\n",
            "[{'name': 'Bob', 'age': 25, 'city': 'London'}, {'name': 'David', 'age': 25, 'city': 'Tokyo'}, {'name': 'Alice', 'age': 30, 'city': 'New York'}, {'name': 'Charlie', 'age': 35, 'city': 'Paris'}]\n",
            "\n",
            "Sorted by name:\n",
            "[{'name': 'Alice', 'age': 30, 'city': 'New York'}, {'name': 'Bob', 'age': 25, 'city': 'London'}, {'name': 'Charlie', 'age': 35, 'city': 'Paris'}, {'name': 'David', 'age': 25, 'city': 'Tokyo'}]\n"
          ]
        }
      ]
    },
    {
      "cell_type": "markdown",
      "source": [
        "# Sort the list of dictionaries by 'age': This is a comment indicating the purpose of the next line.\n",
        "sorted_list = sorted(list_of_dictionaries, key=lambda x: x['age']): This line sorts the list_of_dictionaries.\n",
        "sorted(): This is a built-in Python function that returns a new sorted list from the items in an iterable.\n",
        "list_of_dictionaries: This is the list of dictionaries that we want to sort.\n",
        "key=lambda x: x['age']: This is the key function that sorted() uses to determine the sorting order.\n",
        "lambda x:: This defines a small anonymous function (a lambda function) that takes one argument, x, which represents each dictionary in the list_of_dictionaries during the sorting process.\n",
        "x['age']: This accesses the value associated with the key 'age' in each dictionary x. The sorted() function will use these 'age' values to compare and sort the dictionaries.\n",
        "# Print the sorted list: This is a comment indicating the purpose of the next line.\n",
        "print(\"Sorted by age:\"): This line prints a descriptive header.\n",
        "print(sorted_list): This line prints the newly created sorted_list, which contains the dictionaries sorted by their 'age' values in ascending order.\n",
        "# You can also sort by other keys, for example, by 'name': This is a comment indicating the purpose of the next section.\n",
        "sorted_list_by_name = sorted(list_of_dictionaries, key=lambda x: x['name']): This line sorts the list_of_dictionaries again, but this time using the values associated with the key 'name' for sorting.\n",
        "print(\"\\nSorted by name:\"): This line prints a descriptive header with a newline character (\\n) for better formatting.\n",
        "print(sorted_list_by_name): This line prints the sorted_list_by_name, which contains the dictionaries sorted by their 'name' values in alphabetical order.\n",
        "In summary, this code demonstrates a common way to sort complex data structures like lists of dictionaries in Python by specifying a key function that tells the sorted() function which value within each item to use for comparison."
      ],
      "metadata": {
        "id": "UBSTk5yj8ZCj"
      }
    }
  ]
}